{
 "cells": [
  {
   "cell_type": "markdown",
   "id": "66381381-22dc-4075-9635-76cafa24fdd4",
   "metadata": {},
   "source": [
    "# FA3 - Modélisation mathématique - Contrôle Continu\n",
    "\n",
    "29 janvier 2025"
   ]
  },
  {
   "cell_type": "markdown",
   "id": "7bcd3a5d-f0a9-442b-a666-7d3c0d365afa",
   "metadata": {},
   "source": [
    "## Exercice 1: Classifieur Basé sur les Fréquences\n",
    "\n",
    "### Contexte\n",
    "\n",
    "Dans cet exercice, vous allez implémenter un **classifieur basé sur les fréquences**. Le fonctionnement de ce modèle est illustré sur l'exemple ci-dessous:"
   ]
  },
  {
   "cell_type": "markdown",
   "id": "5934decb-1076-4d11-bdce-d4cad47654e0",
   "metadata": {},
   "source": [
    "### Exemple\n",
    "\n",
    "Soit le **dataset** suivant. Le but est d'apprendre à prédire la **variable réponse** `BuyLaptop` en fonction des **variables caractéristiques** `Age`, `Income`, `Gender`, et `Education` qui décrivent le profil d'un individu.\n",
    "\n",
    "| Age   | Income  | Gender | Education   | BuyLaptop |\n",
    "|-------|---------|--------|-------------|-----------|\n",
    "| young | high    | male   | bachelor    | no        |\n",
    "| young | high    | female | bachelor    | yes       |\n",
    "| middle| medium  | male   | master      | yes       |\n",
    "| middle| high    | female | phd         | yes       |\n",
    "| old   | low     | male   | highschool  | no        |\n",
    "| old   | medium  | female | bachelor    | yes       |\n",
    "| young | low     | female | bachelor    | no        |\n",
    "| young | high    | male   | bachelor    | yes       |\n",
    "| middle| high    | male   | phd         | yes       |\n",
    "| old   | high    | female | master      | no        |\n",
    "| young | medium  | female | phd         | yes       |\n",
    "| middle| low     | male   | highschool  | no        |\n",
    "| old   | low     | male   | master      | no        |\n",
    "\n",
    "Pour ce faire, on procède selon les étapes suivantes :\n",
    "\n",
    "1. **Calcul de l'attribut `class_counts` lié à la variable réponse `BuyLaptop` :**\n",
    "```python\n",
    "class_counts -> {\"yes\": 7, \"no\": 6}\n",
    "```\n",
    "\n",
    "2. **Calcul de l'attribut `feature_counts` lié aux variables réponses et caractéristiques :**\n",
    "```python\n",
    "feature_counts ->\n",
    "{'yes' :\n",
    "    [\n",
    "     {\"young\": 3, \"middle\": 3, \"old\": 1},                    # Colonne 1\n",
    "     {\"high\": 4, \"medium\": 3, \"low\": 0},                     # Colonne 2\n",
    "     {\"male\": 3, \"female\": 4},                               # Colonne 3\n",
    "     {\"highschool\": 0, \"bachelor\": 3, \"master\": 1, \"phd\": 3} # Colonne 4\n",
    "    ],                \n",
    "'no' :\n",
    "    [\n",
    "     {\"young\": 2, \"middle\": 1, \"old\": 3},                    # Colonne 1\n",
    "     {\"high\": 2, \"medium\": 0, \"low\": 4},                     # Colonne 2\n",
    "     {\"male\": 4, \"female\": 2},                               # Colonne 3\n",
    "     {\"highschool\": 2, \"bachelor\": 2, \"master\": 2, \"phd\": 0} # Colonne 4\n",
    "    ]}\n",
    "```\n",
    "\n",
    "3. **Implémentation de la méthode `fit`**\n",
    "\n",
    "    Cette méthode regroupe les deux points précédents.\n",
    "   \n",
    "4. **Implémentation de la méthode `predict`**\n",
    "\n",
    "    Pour prédire l'observation ci-dessous :\n",
    "   ```python\n",
    "    X_test = [\"middle\", \"high\", \"female\", \"phd\"]\n",
    "    ```\n",
    "    on suit les étapes suivantes :\n",
    "    - **Calcul du score pour `\"yes\"` :**\n",
    "      - Colonne 1 : `\"middle\"` → fréquence = 3  \n",
    "      - Colonne 2 : `\"high\"`   → fréquence = 4  \n",
    "      - Colonne 3 : `\"female\"` → fréquence = 4  \n",
    "      - Colonne 4 : `\"phd\"`    → fréquence = 3\n",
    "      - **Score total pour `\"yes\"` :** \\( 3 + 4 + 4 + 3 = 14 \\)\n",
    "    - **Calcul du score pour `\"no\"` :**\n",
    "      - Colonne 1 : `\"middle\"` → fréquence = 1  \n",
    "      - Colonne 2 : `\"high\"`   → fréquence = 2  \n",
    "      - Colonne 3 : `\"female\"` → fréquence = 2  \n",
    "      - Colonne 4 : `\"phd\"`    → fréquence = 0\n",
    "      - **Score total pour `\"no\"` :** \\( 1 + 2 + 2 + 0 = 5 \\)\n",
    "    \n",
    "    **Prédiction :** La classe prédite est `\"yes\"` car 14 > 5."
   ]
  },
  {
   "cell_type": "markdown",
   "id": "70230b89-1b79-453b-840b-1c786555e5b1",
   "metadata": {},
   "source": [
    "### Code\n",
    "\n",
    "Complétez la classe **`FrequencyClassifier`** ci-dessous pour obtenir un fonctionnement comme décrit dans cet exemple."
   ]
  },
  {
   "cell_type": "code",
   "execution_count": 1,
   "id": "1b1b9e6d-8ad4-4ec6-98f0-e625d70fc83e",
   "metadata": {},
   "outputs": [],
   "source": [
    "import numpy as np\n",
    "from collections import Counter\n",
    "from sklearn.metrics import classification_report"
   ]
  },
  {
   "cell_type": "code",
   "execution_count": 3,
   "id": "e4d5bdc1-9e2d-4c1b-92c2-4904f00165d9",
   "metadata": {},
   "outputs": [],
   "source": [
    "class FrequencyClassifier:\n",
    "    \n",
    "    def __init__(self):\n",
    "        \n",
    "        pass\n",
    "\n",
    "    def fit(self, X, y):\n",
    "        \"\"\"Apprend les fréquences des valeurs dans chaque colonne pour chaque classe.\"\"\"\n",
    "        \n",
    "        pass\n",
    "                \n",
    "    def predict(self, X):\n",
    "        \"\"\"Prédit la classe de chaque observation en utilisant les fréquences.\"\"\"\n",
    "\n",
    "        pass"
   ]
  },
  {
   "cell_type": "markdown",
   "id": "124de5f8-9d5d-4889-bfa7-ef6cd5de9e15",
   "metadata": {},
   "source": [
    "### Application"
   ]
  },
  {
   "cell_type": "markdown",
   "id": "c080462c-7476-46f0-a640-c4145db91ade",
   "metadata": {},
   "source": [
    "- Tester votre algorithme sur le **train set** `X_train, y_train` (le même que dans l'exemple) et le **test set** `X_test, y_test` donnés ci-dessous. \n",
    "\n",
    "- Présentez vos résultats."
   ]
  },
  {
   "cell_type": "code",
   "execution_count": 4,
   "id": "fe6fdb43-cab7-4193-8388-44184ac30e60",
   "metadata": {},
   "outputs": [],
   "source": [
    "# Exemple de données : jeu de données \"weather\"\n",
    "\n",
    "X_train = np.array([\n",
    "    [\"young\", \"high\", \"male\", \"bachelor\"],\n",
    "    [\"young\", \"high\", \"female\", \"bachelor\"],\n",
    "    [\"middle\", \"medium\", \"male\", \"master\"],\n",
    "    [\"middle\", \"high\", \"female\", \"phd\"],\n",
    "    [\"old\", \"low\", \"male\", \"highschool\"],\n",
    "    [\"old\", \"medium\", \"female\", \"bachelor\"],\n",
    "    [\"young\", \"low\", \"female\", \"bachelor\"],\n",
    "    [\"young\", \"high\", \"male\", \"bachelor\"],\n",
    "    [\"middle\", \"high\", \"male\", \"phd\"],\n",
    "    [\"old\", \"high\", \"female\", \"master\"],\n",
    "    [\"young\", \"medium\", \"female\", \"phd\"],\n",
    "    [\"middle\", \"low\", \"male\", \"highschool\"],\n",
    "    [\"old\", \"low\", \"male\", \t\"master\"]\n",
    "])\n",
    "\n",
    "y_train = np.array([\"no\", \"yes\", \"yes\", \"yes\", \"no\", \"yes\", \n",
    "                    \"no\", \"yes\", \"yes\", \"no\", \"yes\", \"no\", \"no\"])"
   ]
  },
  {
   "cell_type": "code",
   "execution_count": 5,
   "id": "45548d30-aad0-4c74-9f76-8f66fb5a22d7",
   "metadata": {},
   "outputs": [],
   "source": [
    "X_test = np.array([\n",
    "    [\"young\", \"medium\", \"male\", \"master\"],\n",
    "    [\"middle\", \"medium\", \"female\", \"phd\"],\n",
    "    [\"old\", \"low\", \"female\", \"highschool\"],\n",
    "    [\"old\", \"medium\", \"female\", \"master\"],\n",
    "    [\"middle\", \"low\", \"female\", \"bachelor\"],\n",
    "])\n",
    "\n",
    "y_test = np.array([\"yes\", \"no\", \"no\", \"yes\", \"yes\"])"
   ]
  },
  {
   "cell_type": "code",
   "execution_count": null,
   "id": "b1243d6f-213e-4d7b-987b-cbc2983de0e6",
   "metadata": {},
   "outputs": [],
   "source": []
  },
  {
   "cell_type": "code",
   "execution_count": null,
   "id": "567973de-a7a4-484a-8267-4401823b15d5",
   "metadata": {},
   "outputs": [],
   "source": []
  },
  {
   "cell_type": "code",
   "execution_count": null,
   "id": "24e5854a-b0fd-48fb-b2d2-7c402154713b",
   "metadata": {},
   "outputs": [],
   "source": []
  },
  {
   "cell_type": "markdown",
   "id": "20ea7132-9418-4de6-aa46-92e930ba9624",
   "metadata": {},
   "source": [
    "## Exercice 2: Application"
   ]
  },
  {
   "cell_type": "markdown",
   "id": "c34284b4-b5d6-4215-b29b-a35007aa1003",
   "metadata": {},
   "source": [
    "- Tester votre algorithme sur le **dataset** `iris` ci-dessous. \n",
    "- Présentez vos résultats."
   ]
  },
  {
   "cell_type": "code",
   "execution_count": 169,
   "id": "be792863-adcb-414f-8d21-34e1b148d580",
   "metadata": {},
   "outputs": [],
   "source": [
    "from sklearn.datasets import load_iris\n",
    "from sklearn.model_selection import train_test_split"
   ]
  },
  {
   "cell_type": "code",
   "execution_count": 170,
   "id": "f76f49aa-1640-47f6-8d58-566318db544f",
   "metadata": {},
   "outputs": [],
   "source": [
    "data = load_iris()\n",
    "X, y = data.data, data.target\n",
    "\n",
    "# Diviser les données en train/test\n",
    "X_train, X_test, y_train, y_test = train_test_split(X, y, test_size=0.3, random_state=42)"
   ]
  },
  {
   "cell_type": "code",
   "execution_count": null,
   "id": "95d72174-3e98-4117-b07c-e0db34d1e539",
   "metadata": {},
   "outputs": [],
   "source": []
  },
  {
   "cell_type": "code",
   "execution_count": null,
   "id": "fa8c28be-a5b8-476d-a252-05ad2ea67c9c",
   "metadata": {},
   "outputs": [],
   "source": []
  },
  {
   "cell_type": "code",
   "execution_count": null,
   "id": "c64b850e-5ef1-42cf-8a26-1d16c77ce531",
   "metadata": {},
   "outputs": [],
   "source": []
  },
  {
   "cell_type": "markdown",
   "id": "00994ab5-89b1-4b8f-bba7-9ef2aab06fb0",
   "metadata": {},
   "source": [
    "## Exercice 3: KNN"
   ]
  },
  {
   "cell_type": "markdown",
   "id": "e9101175-722c-4735-816b-fe5231bab9f9",
   "metadata": {},
   "source": [
    "L'algorithme des **$k$ plus proches voisins (KNN)** classifie un point $x$ en la classe $\\hat c$ qui apparaît le plus fréquemment parmi ses $k$ plus proches voisins. *N'hésitez pas à me demander si vous ne vous rappelez plus du principe...*\n",
    "\n",
    "En général, la notion de \"proximité\" est la distance euclidienne (distance classique). Mais si les data que l'on considère sont des mots ou des textes, cette notion ne fait plus de sens. Pour les mots ou les textes, il existe une distance (un peu compliquée, mais pas besoin de la connaître) appelée **distance de levenstein**, implémentée par la fonction ci dessous. Plus la distance entre `word_1` et `word_2` est **petite** (proche de 0), plus ces mots sont **proches**. Plus la distance est **grande** (proche de 1), plus ces mots sont **éloignés**.\n",
    "\n",
    "1. Implémetez une version de l'**algorithme KNN** basé sur la **distance de Levenstein** (pas besoin de faire très élaboré).\n",
    "2. Entraînez l'algorithme sur le dataset de mots `X, y` donné ci-dessous.\n",
    "3. Prédisez les classes associées au test set ci-dessous.\n",
    "\n",
    "```python\n",
    "X_test = [\"street\", \"clap\"]\n",
    "\n",
    "knn = KNN()\n",
    "knn.fit(X, y)\n",
    "knn.predict(X_test)\n",
    "```"
   ]
  },
  {
   "cell_type": "code",
   "execution_count": 142,
   "id": "d407f08a-9fad-465e-96c2-dc5617696c24",
   "metadata": {},
   "outputs": [],
   "source": [
    "def levenstein_distance(word1, word2):\n",
    "    m, n = len(word1), len(word2)\n",
    "    \n",
    "    matrix = np.zeros((m+1, n+1), dtype=int)\n",
    "    \n",
    "    matrix[:, 0] = np.arange(m+1)\n",
    "    matrix[0, :] = np.arange(n+1)\n",
    "    \n",
    "    for i in range(1, m+1):\n",
    "        for j in range(1, n+1):\n",
    "            if word1[i-1] == word2[j-1]:\n",
    "                substitution_cost = 0\n",
    "            else:\n",
    "                substitution_cost = 1\n",
    "\n",
    "            matrix[i, j] = min(\n",
    "                matrix[i-1, j] + 1,                # deletion\n",
    "                matrix[i, j-1] + 1,                # insertion\n",
    "                matrix[i-1, j-1] + substitution_cost    # substitution\n",
    "            )\n",
    "    \n",
    "    similarity = 1 - matrix[m, n] / max(m, n)\n",
    "    similarity_percentage = similarity * 100\n",
    "    distance = (100 - similarity_percentage) / 100\n",
    "    \n",
    "    return distance"
   ]
  },
  {
   "cell_type": "code",
   "execution_count": 143,
   "id": "620123ee-8985-4285-aed7-f85dd3d57525",
   "metadata": {},
   "outputs": [
    {
     "name": "stdout",
     "output_type": "stream",
     "text": [
      "0.3571428571428572\n",
      "0.8888888888888888\n"
     ]
    }
   ],
   "source": [
    "# Exemples\n",
    "print(levenstein_distance(\"salopette\", \"saperlipopette\")) # mots proches\n",
    "print(levenstein_distance(\"salopette\", \"chemise\"))        # mots éloignés"
   ]
  },
  {
   "cell_type": "code",
   "execution_count": 150,
   "id": "9235c933-637e-401f-b656-e27fc90b65b3",
   "metadata": {},
   "outputs": [],
   "source": [
    "dataset = [ \n",
    "        # mots de classe 1\n",
    "        ('stone', 1), ('stony', 1), ('store', 1), ('storm', 1), ('shore', 1),\n",
    "        ('short', 1), ('sport', 1), ('spore', 1), ('spoon', 1), ('soon', 1),\n",
    "        ('moon', 1), ('moan', 1), ('mean', 1), ('meat', 1), ('neat', 1),\n",
    "        ('seat', 1), ('seal', 1), ('sell', 1), ('spell', 1), ('smell', 1),\n",
    "        # mots de classe 2\n",
    "        ('cat', 2), ('bat', 2), ('rat', 2), ('mat', 2), ('fat', 2), \n",
    "        ('hat', 2), ('sat', 2), ('pat', 2), ('cab', 2), ('tab', 2), \n",
    "        ('car', 2), ('bar', 2), ('tar', 2), ('far', 2), ('par', 2),\n",
    "        ('sap', 2), ('tap', 2), ('map', 2), ('cap', 2), ('lap', 2)\n",
    "        ]\n",
    "\n",
    "X = [x[0] for x in dataset] # mots\n",
    "y = [x[1] for x in dataset] # classes associées"
   ]
  },
  {
   "cell_type": "code",
   "execution_count": null,
   "id": "631faf3b-6181-4a2e-919d-2d524bbbf2f2",
   "metadata": {},
   "outputs": [],
   "source": []
  },
  {
   "cell_type": "code",
   "execution_count": null,
   "id": "4f59a63c-6391-482b-a891-6ebcfe428ae7",
   "metadata": {},
   "outputs": [],
   "source": []
  },
  {
   "cell_type": "code",
   "execution_count": null,
   "id": "d252660c-08bf-41de-b6db-b0844eb1cb92",
   "metadata": {},
   "outputs": [],
   "source": []
  }
 ],
 "metadata": {
  "kernelspec": {
   "display_name": "Python 3 (ipykernel)",
   "language": "python",
   "name": "python3"
  },
  "language_info": {
   "codemirror_mode": {
    "name": "ipython",
    "version": 3
   },
   "file_extension": ".py",
   "mimetype": "text/x-python",
   "name": "python",
   "nbconvert_exporter": "python",
   "pygments_lexer": "ipython3",
   "version": "3.13.1"
  }
 },
 "nbformat": 4,
 "nbformat_minor": 5
}
