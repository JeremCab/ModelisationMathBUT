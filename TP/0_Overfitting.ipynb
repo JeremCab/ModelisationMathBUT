{
 "cells": [
  {
   "cell_type": "markdown",
   "id": "3fc1bbe1",
   "metadata": {},
   "source": [
    "# Overfitting"
   ]
  },
  {
   "cell_type": "markdown",
   "id": "6f74bb0b",
   "metadata": {},
   "source": [
    "1. Nous allons génèrer des données et les sépare selon un **train set** et un **test set**.\n",
    "2. Nous allons ensuite entraîner plusieurs **modèles polynomiaux** de différents degrés et mesurer leurs **erreurs (erreur quadrratique moyenne, MSE)** respectives sur le train set et sur le test set.\n",
    "3. La relation entre la complexité du modèle et leurs erreurs respective permet de comprendre le concept d'**overfitting**."
   ]
  },
  {
   "cell_type": "markdown",
   "id": "eb0d8b29",
   "metadata": {},
   "source": [
    "## Librairies"
   ]
  },
  {
   "cell_type": "code",
   "execution_count": 73,
   "id": "d6c26ce4",
   "metadata": {},
   "outputs": [],
   "source": [
    "import pandas as pd\n",
    "import numpy as np\n",
    "\n",
    "from sklearn.model_selection import train_test_split\n",
    "from sklearn.linear_model import LinearRegression\n",
    "from sklearn.preprocessing import PolynomialFeatures\n",
    "from sklearn.metrics import mean_squared_error\n",
    "\n",
    "import seaborn as sns\n",
    "import matplotlib.pyplot as plt"
   ]
  },
  {
   "cell_type": "markdown",
   "id": "c55c6839",
   "metadata": {},
   "source": [
    "## Create dataset"
   ]
  },
  {
   "cell_type": "markdown",
   "id": "f9894258-96c1-4db8-a7b3-24de22e8853e",
   "metadata": {},
   "source": [
    "Le code suivant permet de générer des **data bruitées** selon la fonction\n",
    "\n",
    "$$\n",
    "f(x) = 3x^3 - 2x^2 + 7x + 13 + \\epsilon\n",
    "$$\n",
    "\n",
    "où $\\epsilon$ est un bruit normal (gaussien) de mooyenne $\\mu = 0$ et déviation stadard $\\sigma = 500$."
   ]
  },
  {
   "cell_type": "code",
   "execution_count": 74,
   "id": "71cbdffa",
   "metadata": {},
   "outputs": [],
   "source": [
    "def f(x):\n",
    "    \n",
    "    return 3*x**3 - 2*x**2 + 7*x + 13"
   ]
  },
  {
   "cell_type": "code",
   "execution_count": 75,
   "id": "182b0063",
   "metadata": {},
   "outputs": [],
   "source": [
    "X = np.random.uniform(-10, 10, size=(300))\n",
    "y = f(X) + np.random.normal(0, 500, size=(300))"
   ]
  },
  {
   "cell_type": "markdown",
   "id": "18a70687-a818-45f9-b1fe-b6dc19df2cf5",
   "metadata": {},
   "source": [
    "Splittez vos data en un **train set (80%)** et un **test set (20%)**.\n",
    "- Le **train set** est utilisé pour **entraîner** les modèles.\n",
    "- Le **train set** est utilisé pour **évaluer** la performance des modèles.\n",
    "\n",
    "Utiliser la fonction `train_test_split(...)`:\n",
    "\n",
    "https://scikit-learn.org/stable/modules/generated/sklearn.model_selection.train_test_split.html"
   ]
  },
  {
   "cell_type": "code",
   "execution_count": null,
   "id": "579f9ac6-9b1b-4c69-9960-5a2e79eb5e69",
   "metadata": {},
   "outputs": [],
   "source": []
  },
  {
   "cell_type": "code",
   "execution_count": null,
   "id": "6ec090ca-668f-4625-91b9-3daf9e2fd790",
   "metadata": {},
   "outputs": [],
   "source": []
  },
  {
   "cell_type": "code",
   "execution_count": null,
   "id": "c5b22546-9dd1-43aa-9b6e-013abf6358de",
   "metadata": {},
   "outputs": [],
   "source": []
  },
  {
   "cell_type": "markdown",
   "id": "c8b6dc32-3e3c-4397-a4f3-7a13d2d06688",
   "metadata": {},
   "source": [
    "Faites les graphe (plot) de vos data. Les points du train set et du test set devrons être de différeentes couleurs."
   ]
  },
  {
   "cell_type": "code",
   "execution_count": null,
   "id": "58d28d4d-6b32-4495-8a76-0966e5b84d8b",
   "metadata": {},
   "outputs": [],
   "source": []
  },
  {
   "cell_type": "code",
   "execution_count": null,
   "id": "900c4b0b-c80d-4e08-bfad-9a45a8bb284b",
   "metadata": {},
   "outputs": [],
   "source": []
  },
  {
   "cell_type": "code",
   "execution_count": null,
   "id": "05817f70-f298-4b51-be69-30880eaf74f0",
   "metadata": {},
   "outputs": [],
   "source": []
  },
  {
   "cell_type": "markdown",
   "id": "612da772",
   "metadata": {},
   "source": [
    "## Models"
   ]
  },
  {
   "cell_type": "markdown",
   "id": "1bac4925",
   "metadata": {},
   "source": [
    "### Linear regression"
   ]
  },
  {
   "cell_type": "markdown",
   "id": "88ab8b68-5775-48fc-883f-873821af2758",
   "metadata": {},
   "source": [
    "Entraînez (fittez) une **régression linéaire** (`LinearRegression`) sur votre **train set** et évaluez votre modèle sur le **test set**.\n",
    "\n",
    "L'entraînement d'un modèle comprend toujours les $4$ étapes suivantes:\n",
    "1. **Instanciation:** création du modèle.\n",
    "2. **Entraînement:**  entraîner (fitter) le modèle sur le **train set** (méthode `fit`).\n",
    "3. **Prédictions:** prédire les données du **test set** (et du **train set** également, si besoin) (méthode `predict`).\n",
    "4. **Résultats:** calculer l'erreur quadratique moyenne (`mean_squared_error`) de votre modèle sur le **test set** (et sur le **train set** également, si besoin).\n",
    "\n",
    "Référez-vous à la documentation de la **régression linéaire** (`LinearRegression`) et de l'erreur quadratique moyenne (`mean_squared_error`) pour plus de précisions:\n",
    "\n",
    "https://scikit-learn.org/stable/modules/generated/sklearn.linear_model.LinearRegression.html<br>\n",
    "https://scikit-learn.org/stable/modules/generated/sklearn.metrics.mean_squared_error.html"
   ]
  },
  {
   "cell_type": "code",
   "execution_count": null,
   "id": "b199bcf4-a19d-406c-ba65-b014697d6b16",
   "metadata": {},
   "outputs": [],
   "source": []
  },
  {
   "cell_type": "code",
   "execution_count": null,
   "id": "a3690833-9d7d-4855-b329-a7d54959f186",
   "metadata": {},
   "outputs": [],
   "source": []
  },
  {
   "cell_type": "code",
   "execution_count": null,
   "id": "ffb3a46a-a17d-49fd-b463-7e54876bbe5d",
   "metadata": {},
   "outputs": [],
   "source": []
  },
  {
   "cell_type": "markdown",
   "id": "93ab0278",
   "metadata": {},
   "source": [
    "### Polynomial regressions"
   ]
  },
  {
   "cell_type": "markdown",
   "id": "8f9fc573-cae3-4b46-926e-083851d976f4",
   "metadata": {},
   "source": [
    "Entraînez (fittez) des **régressions polynomiales** (`PolynomialFeatures`) de degrés $1$ à $10$ sur votre **train set** et évaluez vos modèles sur le **test set**.\n",
    "\n",
    "L'entraînement d'une **régression polynomiale** comprend les étapes suivante:\n",
    "1. **Transformation des inputs:** transformation des inputs `X` en des inputs `X_poly` de degré suprérieur.\n",
    "2. **Instanciation:** création d'une régression linéaire.\n",
    "3. **Entraînement:**  entraîner (fitter) votre régression linéaire sur le **train set** avec les inputs transformées `X_poly` (méthode `fit`).\n",
    "4. **Prédictions:** prédire les données du **test set** (et du **train set** également, si besoin) (méthode `predict`).\n",
    "5. **Résultats:** calculer l'erreur quadratique moyenne (`mean_squared_error`) de votre modèle sur le **test set** (et sur le **train set** également, si besoin).\n",
    "\n",
    "Référez-vous à la documentation de la **régressions polynomiale** (`PolynomialFeatures`) pour plus de précisions:\n",
    "\n",
    "https://scikit-learn.org/stable/modules/generated/sklearn.preprocessing.PolynomialFeatures.html"
   ]
  },
  {
   "cell_type": "code",
   "execution_count": null,
   "id": "ea613eed-ab52-458d-97f4-a508718f82aa",
   "metadata": {},
   "outputs": [],
   "source": []
  },
  {
   "cell_type": "code",
   "execution_count": null,
   "id": "f39e8174-5a72-4b03-becb-50635dc19f0f",
   "metadata": {},
   "outputs": [],
   "source": []
  },
  {
   "cell_type": "code",
   "execution_count": null,
   "id": "1f88f293-8c4a-40f6-ba20-c78d444ae949",
   "metadata": {},
   "outputs": [],
   "source": []
  },
  {
   "cell_type": "markdown",
   "id": "ca342593-20c4-442a-9098-fe0ac0b1ea32",
   "metadata": {},
   "source": [
    "Faites les graphe des **erreurs quadratiques moyennes (MSE)** sur le train set et sur le test set en fonction de la **complexité** polynomiale de votre modèle. \n",
    "\n",
    "Vous devriez faire apparaîtrre une petite situation d'**overfitting**. Quel est le meilleur modèle?"
   ]
  },
  {
   "cell_type": "code",
   "execution_count": null,
   "id": "7d2b85c5-26f1-44ef-b872-b83d74e164ae",
   "metadata": {},
   "outputs": [],
   "source": []
  },
  {
   "cell_type": "code",
   "execution_count": null,
   "id": "d5419a5b-030f-4972-a7b0-82ed5d973fe9",
   "metadata": {},
   "outputs": [],
   "source": []
  },
  {
   "cell_type": "code",
   "execution_count": null,
   "id": "54843dca-798e-4848-a6c0-c95559036101",
   "metadata": {},
   "outputs": [],
   "source": []
  }
 ],
 "metadata": {
  "kernelspec": {
   "display_name": "Python 3 (ipykernel)",
   "language": "python",
   "name": "python3"
  },
  "language_info": {
   "codemirror_mode": {
    "name": "ipython",
    "version": 3
   },
   "file_extension": ".py",
   "mimetype": "text/x-python",
   "name": "python",
   "nbconvert_exporter": "python",
   "pygments_lexer": "ipython3",
   "version": "3.9.17"
  }
 },
 "nbformat": 4,
 "nbformat_minor": 5
}
