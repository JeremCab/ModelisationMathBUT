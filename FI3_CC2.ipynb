{
 "cells": [
  {
   "cell_type": "markdown",
   "id": "66381381-22dc-4075-9635-76cafa24fdd4",
   "metadata": {},
   "source": [
    "# FI3 - Modélisation mathématique - Contrôle Continu\n",
    "\n",
    "27 novembre 2024"
   ]
  },
  {
   "cell_type": "markdown",
   "id": "7bcd3a5d-f0a9-442b-a666-7d3c0d365afa",
   "metadata": {},
   "source": [
    "## Exercice : Implémentation d'un Classifieur Basé sur les Fréquences\n",
    "\n",
    "### Contexte\n",
    "\n",
    "Dans cet exercice, vous allez implémenter un **classifieur basé sur les fréquences**. Le fonctionnement de ce modèle est illustré sur l'exemple ci-dessous:"
   ]
  },
  {
   "cell_type": "markdown",
   "id": "5934decb-1076-4d11-bdce-d4cad47654e0",
   "metadata": {},
   "source": [
    "### Exemple\n",
    "\n",
    "Soit le **dataset** suivant. Le but est d'apprendre à prédire la **variable réponse** `PlayTennis` en fonction des **variables caractéristiques** `Outlook`, `Temperature`, `Humidity` et `Windy` qui décrivent la météo.\n",
    "\n",
    "| Outlook    | Temperature | Humidity  | Windy  | PlayTennis  |\n",
    "|------------|-------------|-----------|--------|-------|\n",
    "| sunny      | hot         | high      | false  | no    |\n",
    "| sunny      | hot         | high      | true   | no    |\n",
    "| overcast   | hot         | high      | false  | yes   |\n",
    "| rain       | mild        | high      | false  | yes   |\n",
    "| rain       | cool        | normal    | false  | yes   |\n",
    "| rain       | cool        | normal    | true   | no    |\n",
    "| overcast   | cool        | normal    | true   | yes   |\n",
    "| sunny      | mild        | high      | false  | no    |\n",
    "| sunny      | cool        | normal    | false  | yes   |\n",
    "| rain       | mild        | normal    | false  | yes   |\n",
    "| sunny      | mild        | normal    | true   | yes   |\n",
    "| overcast   | mild        | high      | true   | yes   |\n",
    "| overcast   | hot         | normal    | false  | yes   |\n",
    "| rain       | mild        | high      | true   | no    |\n",
    "\n",
    "\n",
    "Pour ce faire, on procède selon les étapes suivantes:\n",
    "\n",
    "1. **Calcul de l'attribut `class_counts` lié à la variable réponse `PlayTennis` :**\n",
    "```python\n",
    "class_counts -> {\"yes\": 9, \"no\": 5}\n",
    "```\n",
    "2. **Calcul de l'attribut `feature_counts` lié aux variables réponses et caractéristtiques:**\n",
    "```python\n",
    "feature_counts ->\n",
    "\n",
    "{'yes' :\n",
    "    [\n",
    "     {\"sunny\": 2, \"overcast\": 4, \"rain\": 3}, # Colonne 1\n",
    "     {\"hot\": 2, \"mild\": 4, \"cool\": 3},       # Colonne 2\n",
    "     {\"high\": 3, \"normal\": 6},               # Colonne 3\n",
    "     {\"false\": 6, \"true\": 3}                 # Colonne 4\n",
    "    ],                \n",
    "'no' :\n",
    "    [\n",
    "     {\"sunny\": 3, \"rain\": 2},                # Colonne 1\n",
    "     {\"hot\": 2, \"mild\": 2, \"cool\": 1},       # Colonne 2\n",
    "     {\"high\": 4, \"normal\": 1},               # Colonne 3\n",
    "     {\"false\": 3, \"true\": 2}                 # Colonne 4\n",
    "    ]}\n",
    "```\n",
    "\n",
    "3. **Implémentation dela méthode `fit`**\n",
    "\n",
    "    Cette méthode regroupe les deux point précédents.\n",
    "   \n",
    "3. **Implémentation dela méthode `predict`**\n",
    "\n",
    "    Pour prédire l'observation ci-dessous\n",
    "   ```python\n",
    "    X_test = [\"sunny\", \"cool\", \"high\", \"true\"]\n",
    "    \n",
    "    ```\n",
    "    on suit les étapes suivante:\n",
    "    - **Calcul du score pour `\"yes\"` :**\n",
    "      - Colonne 1 : `\"sunny\"` → fréquence = 2  \n",
    "      - Colonne 2 : `\"cool\"` → fréquence = 3  \n",
    "      - Colonne 3 : `\"high\"` → fréquence = 3  \n",
    "      - Colonne 4 : `\"true\"` → fréquence = 3\n",
    "      - **Score total pour `\"yes\"` :** \\( 2 + 3 + 3 + 3 = 11 \\)\n",
    "    - **Calcul du score pour `\"no\"` :**\n",
    "      - Colonne 1 : `\"sunny\"` → fréquence = 3  \n",
    "      - Colonne 2 : `\"cool\"` → fréquence = 1  \n",
    "      - Colonne 3 : `\"high\"` → fréquence = 4  \n",
    "      - Colonne 4 : `\"true\"` → fréquence = 2\n",
    "      - **Score total pour `\"no\"` :** \\( 3 + 1 + 4 + 2 = 10 \\)\n",
    "    \n",
    "    **Prédiction :** La classe prédite est `\"yes\"` car 11 > 10."
   ]
  },
  {
   "cell_type": "markdown",
   "id": "70230b89-1b79-453b-840b-1c786555e5b1",
   "metadata": {},
   "source": [
    "### Code\n",
    "\n",
    "Complétez la classe **`FrequencyClassifier`** ci-dessous pour obtenir un fonctionnement comme décrit dans cet exemple."
   ]
  },
  {
   "cell_type": "code",
   "execution_count": 1,
   "id": "1b1b9e6d-8ad4-4ec6-98f0-e625d70fc83e",
   "metadata": {},
   "outputs": [],
   "source": [
    "import numpy as np\n",
    "from collections import Counter\n",
    "from sklearn.metrics import classification_report"
   ]
  },
  {
   "cell_type": "code",
   "execution_count": 2,
   "id": "e4d5bdc1-9e2d-4c1b-92c2-4904f00165d9",
   "metadata": {},
   "outputs": [],
   "source": [
    "class FrequencyClassifier:\n",
    "    \n",
    "    def __init__(self):\n",
    "        \n",
    "        self.class_counts = {}    # Compte total des classes\n",
    "        self.feature_counts = {}  # Comptes par colonne et par classe\n",
    "\n",
    "    def fit(self, X, y):\n",
    "        \"\"\"Apprend les fréquences des valeurs dans chaque colonne pour chaque classe.\"\"\"\n",
    "        \n",
    "        pass\n",
    "\n",
    "    def predict(self, X):\n",
    "        \"\"\"Prédit la classe de chaque observation en utilisant les fréquences.\"\"\"\n",
    "        pass"
   ]
  },
  {
   "cell_type": "markdown",
   "id": "124de5f8-9d5d-4889-bfa7-ef6cd5de9e15",
   "metadata": {},
   "source": [
    "### Application 1"
   ]
  },
  {
   "cell_type": "markdown",
   "id": "c080462c-7476-46f0-a640-c4145db91ade",
   "metadata": {},
   "source": [
    "- Tester votre algorithme sur le **train set** `X_train, y_train` (le même que dans l'exemple) et le **test set** `X_test, y_test` donnés ci-dessous. \n",
    "\n",
    "- Présentez vos résultats.\n",
    "\n",
    "    *Ne vous inquiétez pas si les résultats ne sont pas transcendants...*"
   ]
  },
  {
   "cell_type": "code",
   "execution_count": 3,
   "id": "fe6fdb43-cab7-4193-8388-44184ac30e60",
   "metadata": {},
   "outputs": [],
   "source": [
    "# Exemple de données : jeu de données \"weather\"\n",
    "\n",
    "X_train = np.array([\n",
    "    [\"sunny\", \"hot\", \"high\", \"false\"],\n",
    "    [\"sunny\", \"hot\", \"high\", \"true\"],\n",
    "    [\"overcast\", \"hot\", \"high\", \"false\"],\n",
    "    [\"rain\", \"mild\", \"high\", \"false\"],\n",
    "    [\"rain\", \"cool\", \"normal\", \"false\"],\n",
    "    [\"rain\", \"cool\", \"normal\", \"true\"],\n",
    "    [\"overcast\", \"cool\", \"normal\", \"true\"],\n",
    "    [\"sunny\", \"mild\", \"high\", \"false\"],\n",
    "    [\"sunny\", \"cool\", \"normal\", \"false\"],\n",
    "    [\"rain\", \"mild\", \"normal\", \"false\"],\n",
    "    [\"sunny\", \"mild\", \"normal\", \"true\"],\n",
    "    [\"overcast\", \"mild\", \"high\", \"true\"],\n",
    "    [\"overcast\", \"hot\", \"normal\", \"false\"],\n",
    "    [\"rain\", \"mild\", \"high\", \"true\"]\n",
    "])\n",
    "\n",
    "y_train = np.array([\"no\", \"no\", \"yes\", \"yes\", \"yes\", \"no\", \"yes\", \n",
    "                    \"no\", \"yes\", \"yes\", \"yes\", \"yes\", \"yes\", \"no\"])"
   ]
  },
  {
   "cell_type": "code",
   "execution_count": 4,
   "id": "45548d30-aad0-4c74-9f76-8f66fb5a22d7",
   "metadata": {},
   "outputs": [],
   "source": [
    "X_test = np.array([\n",
    "    [\"sunny\", \"mild\", \"normal\", \"false\"],\n",
    "    [\"rain\", \"cool\", \"high\", \"true\"],\n",
    "    [\"rain\", \"mild\", \"high\", \"false\"],\n",
    "    [\"sunny\", \"hot\", \"high\", \"false\"],\n",
    "    [\"sunny\", \"hot\", \"high\", \"true\"],\n",
    "])\n",
    "\n",
    "y_test = np.array([\"yes\", \"no\", \"yes\", \"yes\", \"no\"])"
   ]
  },
  {
   "cell_type": "code",
   "execution_count": null,
   "id": "6ab45ed9-1a3c-401f-940c-8e21f9d15c18",
   "metadata": {},
   "outputs": [],
   "source": []
  },
  {
   "cell_type": "code",
   "execution_count": null,
   "id": "590ff731-85c2-4e8c-abb7-8ade319c495b",
   "metadata": {},
   "outputs": [],
   "source": []
  },
  {
   "cell_type": "code",
   "execution_count": null,
   "id": "df584c87-1cdb-422f-84ad-b4871651fa0a",
   "metadata": {},
   "outputs": [],
   "source": []
  },
  {
   "cell_type": "markdown",
   "id": "20ea7132-9418-4de6-aa46-92e930ba9624",
   "metadata": {},
   "source": [
    "### Application 2"
   ]
  },
  {
   "cell_type": "markdown",
   "id": "c34284b4-b5d6-4215-b29b-a35007aa1003",
   "metadata": {},
   "source": [
    "- Tester votre algorithme sur le **dataset** `iris` ci-dessous. \n",
    "\n",
    "- Présentez vos résultats.\n",
    "\n",
    "    *Les résultats devraient être bien meilleurs...*"
   ]
  },
  {
   "cell_type": "code",
   "execution_count": 5,
   "id": "be792863-adcb-414f-8d21-34e1b148d580",
   "metadata": {},
   "outputs": [],
   "source": [
    "from sklearn.datasets import load_iris\n",
    "from sklearn.model_selection import train_test_split"
   ]
  },
  {
   "cell_type": "code",
   "execution_count": 6,
   "id": "f76f49aa-1640-47f6-8d58-566318db544f",
   "metadata": {},
   "outputs": [],
   "source": [
    "data = load_iris()\n",
    "X, y = data.data, data.target\n",
    "\n",
    "# Diviser les données en train/test\n",
    "X_train, X_test, y_train, y_test = train_test_split(X, y, test_size=0.3, random_state=42)"
   ]
  },
  {
   "cell_type": "code",
   "execution_count": null,
   "id": "6bd8ade0-60a8-4975-a3e5-b885ae38bdf5",
   "metadata": {},
   "outputs": [],
   "source": []
  },
  {
   "cell_type": "code",
   "execution_count": null,
   "id": "69853fcf-644a-4912-ba4d-b84bc42149d9",
   "metadata": {},
   "outputs": [],
   "source": []
  },
  {
   "cell_type": "code",
   "execution_count": null,
   "id": "3a2a9968-af16-4550-9695-3e4548ad02aa",
   "metadata": {},
   "outputs": [],
   "source": []
  }
 ],
 "metadata": {
  "kernelspec": {
   "display_name": "base",
   "language": "python",
   "name": "base"
  },
  "language_info": {
   "codemirror_mode": {
    "name": "ipython",
    "version": 3
   },
   "file_extension": ".py",
   "mimetype": "text/x-python",
   "name": "python",
   "nbconvert_exporter": "python",
   "pygments_lexer": "ipython3",
   "version": "3.9.5"
  }
 },
 "nbformat": 4,
 "nbformat_minor": 5
}
